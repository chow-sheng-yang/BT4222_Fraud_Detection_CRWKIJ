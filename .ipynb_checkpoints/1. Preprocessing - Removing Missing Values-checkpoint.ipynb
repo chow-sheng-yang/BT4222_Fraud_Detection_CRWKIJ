{
 "cells": [
  {
   "cell_type": "markdown",
   "id": "d9c39c6a",
   "metadata": {},
   "source": [
    "# 1. Preprocessing"
   ]
  },
  {
   "cell_type": "markdown",
   "id": "84fa5812",
   "metadata": {},
   "source": [
    "The current projects have conducted proper investigation for preprocessing and this notebook aims to produce a new dataset that has the unnecessary variables and missing variables filled."
   ]
  },
  {
   "cell_type": "markdown",
   "id": "2df4e515",
   "metadata": {},
   "source": [
    "## 1.1 Import necessary libraries"
   ]
  },
  {
   "cell_type": "code",
   "execution_count": 2,
   "id": "9abc1e03",
   "metadata": {},
   "outputs": [],
   "source": [
    "import os\n",
    "import gc\n",
    "import numpy as np\n",
    "import pandas as pd\n",
    "import seaborn as sns\n",
    "import matplotlib.pyplot as plt"
   ]
  },
  {
   "cell_type": "markdown",
   "id": "b9fc5887",
   "metadata": {},
   "source": [
    "## 1.2 Correlation Analysis"
   ]
  },
  {
   "cell_type": "markdown",
   "id": "2a5057ac",
   "metadata": {},
   "source": [
    "The current projects have conducted detailed correlation analysis on all columns and we will select the columns that they have filtered out."
   ]
  },
  {
   "cell_type": "code",
   "execution_count": 3,
   "id": "d7e3256b",
   "metadata": {},
   "outputs": [],
   "source": [
    "# COLUMNS WITH STRINGS\n",
    "str_type = ['ProductCD', 'card4', 'card6', 'P_emaildomain', 'R_emaildomain','M1', 'M2', 'M3', 'M4','M5',\n",
    "            'M6', 'M7', 'M8', 'M9', 'id_12', 'id_15', 'id_16', 'id_23', 'id_27', 'id_28', 'id_29', 'id_30', \n",
    "            'id_31', 'id_33', 'id_34', 'id_35', 'id_36', 'id_37', 'id_38', 'DeviceType', 'DeviceInfo']\n",
    "str_type += ['id-12', 'id-15', 'id-16', 'id-23', 'id-27', 'id-28', 'id-29', 'id-30', \n",
    "            'id-31', 'id-33', 'id-34', 'id-35', 'id-36', 'id-37', 'id-38']\n",
    "\n",
    "# FIRST 53 COLUMNS\n",
    "cols = ['TransactionID', 'TransactionDT', 'TransactionAmt',\n",
    "       'ProductCD', 'card1', 'card2', 'card3', 'card4', 'card5', 'card6',\n",
    "       'addr1', 'addr2', 'dist1', 'dist2', 'P_emaildomain', 'R_emaildomain',\n",
    "       'C1', 'C2', 'C3', 'C4', 'C5', 'C6', 'C7', 'C8', 'C9', 'C10', 'C11',\n",
    "       'C12', 'C13', 'C14', 'D1', 'D2', 'D3', 'D4', 'D5', 'D6', 'D7', 'D8',\n",
    "       'D9', 'D10', 'D11', 'D12', 'D13', 'D14', 'D15', 'M1', 'M2', 'M3', 'M4',\n",
    "       'M5', 'M6', 'M7', 'M8', 'M9']\n",
    "\n",
    "# V COLUMNS TO LOAD DECIDED BY CORRELATION EDA\n",
    "v =  [1, 3, 4, 6, 8, 11]\n",
    "v += [13, 14, 17, 20, 23, 26, 27, 30]\n",
    "v += [36, 37, 40, 41, 44, 47, 48]\n",
    "v += [54, 56, 59, 62, 65, 67, 68, 70]\n",
    "v += [76, 78, 80, 82, 86, 88, 89, 91]\n",
    "\n",
    "#v += [96, 98, 99, 104] #relates to groups, no NAN \n",
    "v += [107, 108, 111, 115, 117, 120, 121, 123] # maybe group, no NAN\n",
    "v += [124, 127, 129, 130, 136] # relates to groups, no NAN\n",
    "\n",
    "# LOTS OF NAN BELOW\n",
    "v += [138, 139, 142, 147, 156, 162] #b1\n",
    "v += [165, 160, 166] #b1\n",
    "v += [178, 176, 173, 182] #b2\n",
    "v += [187, 203, 205, 207, 215] #b2\n",
    "v += [169, 171, 175, 180, 185, 188, 198, 210, 209] #b2\n",
    "v += [218, 223, 224, 226, 228, 229, 235] #b3\n",
    "v += [240, 258, 257, 253, 252, 260, 261] #b3\n",
    "v += [264, 266, 267, 274, 277] #b3\n",
    "v += [220, 221, 234, 238, 250, 271] #b3\n",
    "\n",
    "v += [294, 284, 285, 286, 291, 297] # relates to grous, no NAN\n",
    "v += [303, 305, 307, 309, 310, 320] # relates to groups, no NAN\n",
    "v += [281, 283, 289, 296, 301, 314] # relates to groups, no NAN\n",
    "#v += [332, 325, 335, 338] # b4 lots NAN\n",
    "\n",
    "cols += ['V'+str(x) for x in v]\n",
    "dtypes = {}\n",
    "for c in cols+['id_0'+str(x) for x in range(1,10)]+['id_'+str(x) for x in range(10,34)]+\\\n",
    "    ['id-0'+str(x) for x in range(1,10)]+['id-'+str(x) for x in range(10,34)]:\n",
    "        dtypes[c] = 'float32'\n",
    "for c in str_type: dtypes[c] = 'category'"
   ]
  },
  {
   "cell_type": "code",
   "execution_count": 4,
   "id": "7ccf2022",
   "metadata": {},
   "outputs": [
    {
     "name": "stdout",
     "output_type": "stream",
     "text": [
      "Train shape (590540, 213) test shape (506691, 213)\n",
      "CPU times: user 21.2 s, sys: 2.96 s, total: 24.1 s\n",
      "Wall time: 24.8 s\n"
     ]
    }
   ],
   "source": [
    "%%time\n",
    "# LOAD TRAIN\n",
    "X_train = pd.read_csv('/Users/remuslum/Downloads/ieee-fraud-detection/train_transaction.csv',index_col='TransactionID', dtype=dtypes, usecols=cols+['isFraud'])\n",
    "train_id = pd.read_csv('/Users/remuslum/Downloads/ieee-fraud-detection/train_identity.csv',index_col='TransactionID', dtype=dtypes)\n",
    "X_train = X_train.merge(train_id, how='left', left_index=True, right_index=True)\n",
    "# LOAD TEST\n",
    "X_test = pd.read_csv('/Users/remuslum/Downloads/ieee-fraud-detection/test_transaction.csv',index_col='TransactionID', dtype=dtypes, usecols=cols)\n",
    "test_id = pd.read_csv('/Users/remuslum/Downloads/ieee-fraud-detection/test_identity.csv',index_col='TransactionID', dtype=dtypes)\n",
    "fix = {o:n for o, n in zip(test_id.columns, train_id.columns)}\n",
    "test_id.rename(columns=fix, inplace=True)\n",
    "X_test = X_test.merge(test_id, how='left', left_index=True, right_index=True)\n",
    "# TARGET\n",
    "y_train = X_train['isFraud'].copy()\n",
    "del train_id, test_id, X_train['isFraud']; x = gc.collect()\n",
    "# PRINT STATUS\n",
    "print('Train shape',X_train.shape,'test shape',X_test.shape)"
   ]
  },
  {
   "cell_type": "markdown",
   "id": "7fd98be2",
   "metadata": {},
   "source": [
    "## 1.3 Missing values"
   ]
  },
  {
   "cell_type": "markdown",
   "id": "37bc9463",
   "metadata": {},
   "source": [
    "### 1.3.1 Distribution of Columns with missing values"
   ]
  },
  {
   "cell_type": "markdown",
   "id": "1080c527",
   "metadata": {},
   "source": [
    "We will now deal with the missing values by viewing the distribution of those columns."
   ]
  },
  {
   "cell_type": "code",
   "execution_count": 5,
   "id": "9741b6d9",
   "metadata": {},
   "outputs": [],
   "source": [
    "def top_missing_cols(df,thresh,n=10):\n",
    "    \"\"\"\n",
    "    returns missing columns in dataframe with missing values percent > thresh\n",
    "    if n=None. It will gave whole dataframe with missing values percent > thresh\n",
    "    \"\"\"\n",
    "    \n",
    "    dff = (df.isnull().sum()/df.shape[0])*100\n",
    "    dff = dff.reset_index()\n",
    "    dff.columns = ['col','missing_percent']\n",
    "    dff = dff.sort_values(by=['missing_percent'],ascending=False).reset_index(drop=True)\n",
    "    print(f'There are {df.isnull().any().sum()} columns in this dataset with missing values.')\n",
    "    print(f'There are {dff[dff[\"missing_percent\"] > thresh].shape[0]} columns with missing percent values than {thresh}%')\n",
    "    return dff[dff[\"missing_percent\"] > thresh]"
   ]
  },
  {
   "cell_type": "code",
   "execution_count": 8,
   "id": "f57ae33f",
   "metadata": {},
   "outputs": [
    {
     "name": "stdout",
     "output_type": "stream",
     "text": [
      "There are 195 columns in this dataset with missing values.\n",
      "There are 101 columns with missing percent values than 70%\n",
      "There are 196 columns in this dataset with missing values.\n",
      "There are 101 columns with missing percent values than 70%\n"
     ]
    }
   ],
   "source": [
    "df_missing_values_train = top_missing_cols(X_train,70)\n",
    "df_missing_values_test = top_missing_cols(X_test,70)"
   ]
  },
  {
   "cell_type": "code",
   "execution_count": 10,
   "id": "c1d5d131",
   "metadata": {},
   "outputs": [],
   "source": [
    "cols_to_drop = df_missing_values_train['col'].unique()"
   ]
  },
  {
   "cell_type": "markdown",
   "id": "5d933227",
   "metadata": {},
   "source": [
    "The train and test sets both have the same columns with more than **70%** of its values missing. We will drop the same columns from both the train and test sets. "
   ]
  },
  {
   "cell_type": "code",
   "execution_count": 11,
   "id": "d4b33273",
   "metadata": {},
   "outputs": [],
   "source": [
    "X_train.drop(columns = cols_to_drop, inplace = True)\n",
    "X_test.drop(columns = cols_to_drop, inplace = True)"
   ]
  },
  {
   "cell_type": "code",
   "execution_count": 12,
   "id": "b00d5b46",
   "metadata": {},
   "outputs": [
    {
     "name": "stdout",
     "output_type": "stream",
     "text": [
      "(590540, 112)\n",
      "(506691, 112)\n"
     ]
    }
   ],
   "source": [
    "print(X_train.shape)\n",
    "print(X_test.shape)"
   ]
  },
  {
   "cell_type": "code",
   "execution_count": 13,
   "id": "5b11603e",
   "metadata": {},
   "outputs": [
    {
     "name": "stdout",
     "output_type": "stream",
     "text": [
      "Number of missing columns in train dataset:  94\n",
      "Number of missing columns in test dataset:  95\n"
     ]
    }
   ],
   "source": [
    "cols_with_missing_train = X_train.columns[X_train.isna().any()].tolist()\n",
    "cols_with_missing_test = X_test.columns[X_test.isna().any()].tolist()\n",
    "print(\"Number of missing columns in train dataset: \", len(cols_with_missing_train))\n",
    "print(\"Number of missing columns in test dataset: \", len(cols_with_missing_test))"
   ]
  },
  {
   "cell_type": "code",
   "execution_count": 17,
   "id": "f0111b34",
   "metadata": {},
   "outputs": [
    {
     "name": "stdout",
     "output_type": "stream",
     "text": [
      "card2 : 1.51\n",
      "card3 : 0.27\n",
      "card4 : 0.27\n",
      "card5 : 0.72\n",
      "card6 : 0.27\n",
      "addr1 : 11.13\n",
      "addr2 : 11.13\n",
      "dist1 : 59.65\n",
      "P_emaildomain : 15.99\n",
      "D1 : 0.21\n",
      "D2 : 47.55\n",
      "D3 : 44.51\n",
      "D4 : 28.6\n",
      "D5 : 52.47\n",
      "D10 : 12.87\n",
      "D11 : 47.29\n",
      "D15 : 15.09\n",
      "M1 : 45.91\n",
      "M2 : 45.91\n",
      "M3 : 45.91\n",
      "M4 : 47.66\n",
      "M5 : 59.35\n",
      "M6 : 28.68\n",
      "M7 : 58.64\n",
      "M8 : 58.63\n",
      "M9 : 58.63\n",
      "V1 : 47.29\n",
      "V3 : 47.29\n",
      "V4 : 47.29\n",
      "V6 : 47.29\n",
      "V8 : 47.29\n",
      "V11 : 47.29\n",
      "V13 : 12.88\n",
      "V14 : 12.88\n",
      "V17 : 12.88\n",
      "V20 : 12.88\n",
      "V23 : 12.88\n",
      "V26 : 12.88\n",
      "V27 : 12.88\n",
      "V30 : 12.88\n",
      "V36 : 28.61\n",
      "V37 : 28.61\n",
      "V40 : 28.61\n",
      "V41 : 28.61\n",
      "V44 : 28.61\n",
      "V47 : 28.61\n",
      "V48 : 28.61\n",
      "V54 : 13.06\n",
      "V56 : 13.06\n",
      "V59 : 13.06\n",
      "V62 : 13.06\n",
      "V65 : 13.06\n",
      "V67 : 13.06\n",
      "V68 : 13.06\n",
      "V70 : 13.06\n",
      "V76 : 15.1\n",
      "V78 : 15.1\n",
      "V80 : 15.1\n",
      "V82 : 15.1\n",
      "V86 : 15.1\n",
      "V88 : 15.1\n",
      "V89 : 15.1\n",
      "V91 : 15.1\n",
      "V107 : 0.05\n",
      "V108 : 0.05\n",
      "V111 : 0.05\n",
      "V115 : 0.05\n",
      "V117 : 0.05\n",
      "V120 : 0.05\n",
      "V121 : 0.05\n",
      "V123 : 0.05\n",
      "V124 : 0.05\n",
      "V127 : 0.05\n",
      "V129 : 0.05\n",
      "V130 : 0.05\n",
      "V136 : 0.05\n",
      "V281 : 0.21\n",
      "V283 : 0.21\n",
      "V284 : 0.0\n",
      "V285 : 0.0\n",
      "V286 : 0.0\n",
      "V289 : 0.21\n",
      "V291 : 0.0\n",
      "V294 : 0.0\n",
      "V296 : 0.21\n",
      "V297 : 0.0\n",
      "V301 : 0.21\n",
      "V303 : 0.0\n",
      "V305 : 0.0\n",
      "V307 : 0.0\n",
      "V309 : 0.0\n",
      "V310 : 0.0\n",
      "V314 : 0.21\n",
      "V320 : 0.0\n"
     ]
    }
   ],
   "source": [
    "for col in cols_with_missing_train:\n",
    "    print(col, \":\",(X_train[col].isna().mean() * 100).round(2))"
   ]
  },
  {
   "cell_type": "code",
   "execution_count": 63,
   "id": "9087eb1f",
   "metadata": {},
   "outputs": [
    {
     "name": "stdout",
     "output_type": "stream",
     "text": [
      "C1 : 0.0\n",
      "C2 : 0.0\n",
      "C3 : 0.0\n",
      "C4 : 0.0\n",
      "C5 : 0.0\n",
      "C6 : 0.0\n",
      "C7 : 0.0\n",
      "C8 : 0.0\n",
      "C9 : 0.0\n",
      "C10 : 0.0\n",
      "C11 : 0.0\n",
      "C12 : 0.0\n",
      "C13 : 0.62\n",
      "C14 : 0.0\n"
     ]
    }
   ],
   "source": [
    "for col in cols_with_missing_test:\n",
    "    print(col, \":\",(X_test[col].isna().mean() * 100).round(2))"
   ]
  },
  {
   "cell_type": "markdown",
   "id": "bd8ba6c0",
   "metadata": {},
   "source": [
    "### 1.3.2 Removal of rows "
   ]
  },
  {
   "cell_type": "markdown",
   "id": "458f4ca6",
   "metadata": {},
   "source": [
    "We first filter out rows with **less than 2%** of missing values in each column. Then, we remove those rows with missing values in those columns."
   ]
  },
  {
   "cell_type": "code",
   "execution_count": 19,
   "id": "25aa98bf",
   "metadata": {},
   "outputs": [],
   "source": [
    "small_cols = []\n",
    "for col in cols_with_missing_train:\n",
    "    if (X_train[col].isna().mean() * 100).round(2) < 2 :\n",
    "        small_cols.append(col)"
   ]
  },
  {
   "cell_type": "code",
   "execution_count": 20,
   "id": "0fcda91a",
   "metadata": {},
   "outputs": [
    {
     "data": {
      "text/plain": [
       "['card2',\n",
       " 'card3',\n",
       " 'card4',\n",
       " 'card5',\n",
       " 'card6',\n",
       " 'D1',\n",
       " 'V107',\n",
       " 'V108',\n",
       " 'V111',\n",
       " 'V115',\n",
       " 'V117',\n",
       " 'V120',\n",
       " 'V121',\n",
       " 'V123',\n",
       " 'V124',\n",
       " 'V127',\n",
       " 'V129',\n",
       " 'V130',\n",
       " 'V136',\n",
       " 'V281',\n",
       " 'V283',\n",
       " 'V284',\n",
       " 'V285',\n",
       " 'V286',\n",
       " 'V289',\n",
       " 'V291',\n",
       " 'V294',\n",
       " 'V296',\n",
       " 'V297',\n",
       " 'V301',\n",
       " 'V303',\n",
       " 'V305',\n",
       " 'V307',\n",
       " 'V309',\n",
       " 'V310',\n",
       " 'V314',\n",
       " 'V320']"
      ]
     },
     "execution_count": 20,
     "metadata": {},
     "output_type": "execute_result"
    }
   ],
   "source": [
    "small_cols"
   ]
  },
  {
   "cell_type": "code",
   "execution_count": 21,
   "id": "957b9dea",
   "metadata": {},
   "outputs": [],
   "source": [
    "X_train = X_train.dropna(subset = small_cols)\n",
    "X_test = X_test.dropna(subset = small_cols)"
   ]
  },
  {
   "cell_type": "code",
   "execution_count": 22,
   "id": "db26d76b",
   "metadata": {},
   "outputs": [
    {
     "name": "stdout",
     "output_type": "stream",
     "text": [
      "Number of columns in train dataset: (578081, 112)\n",
      "Number of columns in test dataset: (491009, 112)\n"
     ]
    }
   ],
   "source": [
    "print(\"Number of columns in train dataset:\",X_train.shape)\n",
    "print(\"Number of columns in test dataset:\",X_test.shape)"
   ]
  },
  {
   "cell_type": "markdown",
   "id": "b8292d88",
   "metadata": {},
   "source": [
    "### 1.3.3 Investigation of Distribution (D columns)"
   ]
  },
  {
   "cell_type": "code",
   "execution_count": 25,
   "id": "d84b172b",
   "metadata": {},
   "outputs": [
    {
     "data": {
      "text/plain": [
       "['D2', 'D3', 'D4', 'D5', 'D10', 'D11', 'D15']"
      ]
     },
     "execution_count": 25,
     "metadata": {},
     "output_type": "execute_result"
    }
   ],
   "source": [
    "remaining_cols = [item for item in cols_with_missing_train if item not in small_cols]\n",
    "D_columns = []\n",
    "for col in remaining_cols:\n",
    "    if 'D' in col:\n",
    "        D_columns.append(col)\n",
    "D_columns"
   ]
  },
  {
   "cell_type": "markdown",
   "id": "0eaa90b9",
   "metadata": {},
   "source": [
    "Distribution of D Columns"
   ]
  },
  {
   "cell_type": "code",
   "execution_count": 29,
   "id": "4d4101bc",
   "metadata": {},
   "outputs": [
    {
     "data": {
      "image/png": "[encoded data removed]",
      "text/plain": [
       "<Figure size 1440x720 with 8 Axes>"
      ]
     },
     "metadata": {
      "needs_background": "light"
     },
     "output_type": "display_data"
    }
   ],
   "source": [
    "fig, axes = plt.subplots(nrows = 4, ncols = 2, figsize = (20,10), sharex = True)\n",
    "\n",
    "value_counts_D2 = X_train['D2'].value_counts()\n",
    "axes[0,0].bar(value_counts_D2.index, value_counts_D2.values)\n",
    "axes[0,0].set_title(\"Distribution of D2\")\n",
    "\n",
    "value_counts_D3 = X_train['D3'].value_counts()\n",
    "axes[0,1].bar(value_counts_D3.index, value_counts_D3.values)\n",
    "axes[0,1].set_title(\"Distribution of D3\")\n",
    "\n",
    "value_counts_D4 = X_train['D4'].value_counts()\n",
    "axes[1,0].bar(value_counts_D4.index, value_counts_D4.values)\n",
    "axes[1,0].set_title(\"Distribution of D4\")\n",
    "\n",
    "value_counts_D5 = X_train['D5'].value_counts()\n",
    "axes[1,1].bar(value_counts_D5.index, value_counts_D5.values)\n",
    "axes[1,1].set_title(\"Distribution of D5\")\n",
    "\n",
    "value_counts_D10 = X_train['D10'].value_counts()\n",
    "axes[2,0].bar(value_counts_D10.index, value_counts_D10.values)\n",
    "axes[2,0].set_title(\"Distribution of D10\")\n",
    "\n",
    "value_counts_D11 = X_train['D11'].value_counts()\n",
    "axes[2,1].bar(value_counts_D11.index, value_counts_D11.values)\n",
    "axes[2,1].set_title(\"Distribution of D11\")\n",
    "\n",
    "value_counts_D15 = X_train['D15'].value_counts()\n",
    "axes[3,0].bar(value_counts_D15.index, value_counts_D15.values)\n",
    "axes[3,0].set_title(\"Distribution of D15\")\n",
    "\n",
    "axes[3,1].axis('off')\n",
    "plt.show()"
   ]
  },
  {
   "cell_type": "markdown",
   "id": "552ad744",
   "metadata": {},
   "source": [
    "Decision: \n",
    "- We will fill up the columns of **D2, D4, D10, D15** with its mode value as the distribution of these columns' values seems left-skewed.\n",
    "- We will fill up the columns of **D3, D5 and D11** with its mean value as the distribution of these columns' values seems evenly distributed. "
   ]
  },
  {
   "cell_type": "code",
   "execution_count": 31,
   "id": "3569ea87",
   "metadata": {},
   "outputs": [],
   "source": [
    "mean = X_train[['D3','D5','D11']].mean()\n",
    "X_train[['D3','D5','D11']] = X_train[['D3','D5','D11']].fillna(mean[['D3','D5','D11']])\n",
    "X_test[['D3','D5','D11']] = X_test[['D3','D5','D11']].fillna(mean[['D3','D5','D11']])"
   ]
  },
  {
   "cell_type": "code",
   "execution_count": 32,
   "id": "6cf8abc5",
   "metadata": {},
   "outputs": [],
   "source": [
    "mode_train = X_train.mode().iloc[0]\n",
    "mode_test = X_test.mode().iloc[0]\n",
    "\n",
    "D_columns_mode = ['D2','D4','D10','D15']\n",
    "X_train[D_columns_mode] = X_train[D_columns_mode].fillna(mode_train[D_columns_mode])\n",
    "X_test[D_columns_mode] = X_test[D_columns_mode].fillna(mode_test[D_columns_mode])"
   ]
  },
  {
   "cell_type": "code",
   "execution_count": 33,
   "id": "d094932f",
   "metadata": {},
   "outputs": [
    {
     "name": "stdout",
     "output_type": "stream",
     "text": [
      "Number of missing columns in train dataset:  50\n",
      "Number of missing columns in test dataset:  64\n"
     ]
    }
   ],
   "source": [
    "cols_with_missing_train = X_train.columns[X_train.isna().any()].tolist()\n",
    "cols_with_missing_test = X_test.columns[X_test.isna().any()].tolist()\n",
    "print(\"Number of missing columns in train dataset: \", len(cols_with_missing_train))\n",
    "print(\"Number of missing columns in test dataset: \", len(cols_with_missing_test))"
   ]
  },
  {
   "cell_type": "markdown",
   "id": "9050928e",
   "metadata": {},
   "source": [
    "### 1.3.4 Investigation of Distribution (M columns)"
   ]
  },
  {
   "cell_type": "code",
   "execution_count": 34,
   "id": "d8100b60",
   "metadata": {},
   "outputs": [
    {
     "data": {
      "text/plain": [
       "['M1', 'M2', 'M3', 'M4', 'M5', 'M6', 'M7', 'M8', 'M9']"
      ]
     },
     "execution_count": 34,
     "metadata": {},
     "output_type": "execute_result"
    }
   ],
   "source": [
    "M_columns = []\n",
    "for col in remaining_cols:\n",
    "    if 'M' in col:\n",
    "        M_columns.append(col)\n",
    "M_columns"
   ]
  },
  {
   "cell_type": "code",
   "execution_count": 38,
   "id": "4687dbb4",
   "metadata": {},
   "outputs": [
    {
     "data": {
      "image/png": "[encoded data removed]",
      "text/plain": [
       "<Figure size 1440x720 with 9 Axes>"
      ]
     },
     "metadata": {
      "needs_background": "light"
     },
     "output_type": "display_data"
    }
   ],
   "source": [
    "fig, axes = plt.subplots(nrows = 3, ncols = 3, figsize = (20,10))\n",
    "\n",
    "value_counts_M1 = X_train['M1'].value_counts()\n",
    "axes[0,0].bar(value_counts_M1.index, value_counts_M1.values)\n",
    "axes[0,0].set_title(\"Distribution of M1\")\n",
    "\n",
    "value_counts_M2 = X_train['M2'].value_counts()\n",
    "axes[0,1].bar(value_counts_M2.index, value_counts_M2.values)\n",
    "axes[0,1].set_title(\"Distribution of M2\")\n",
    "\n",
    "value_counts_M3 = X_train['M3'].value_counts()\n",
    "axes[0,2].bar(value_counts_M3.index, value_counts_M3.values)\n",
    "axes[0,2].set_title(\"Distribution of M3\")\n",
    "\n",
    "value_counts_M4 = X_train['M4'].value_counts()\n",
    "axes[1,0].bar(value_counts_M4.index, value_counts_M4.values)\n",
    "axes[1,0].set_title(\"Distribution of M4\")\n",
    "\n",
    "value_counts_M5 = X_train['M5'].value_counts()\n",
    "axes[1,1].bar(value_counts_M5.index, value_counts_M5.values)\n",
    "axes[1,1].set_title(\"Distribution of M5\")\n",
    "\n",
    "value_counts_M6 = X_train['M6'].value_counts()\n",
    "axes[1,2].bar(value_counts_M6.index, value_counts_M6.values)\n",
    "axes[1,2].set_title(\"Distribution of M6\")\n",
    "\n",
    "value_counts_M7 = X_train['M7'].value_counts()\n",
    "axes[2,0].bar(value_counts_M7.index, value_counts_M7.values)\n",
    "axes[2,0].set_title(\"Distribution of M7\")\n",
    "\n",
    "value_counts_M8 = X_train['M8'].value_counts()\n",
    "axes[2,1].bar(value_counts_M8.index, value_counts_M8.values)\n",
    "axes[2,1].set_title(\"Distribution of M8\")\n",
    "\n",
    "value_counts_M9 = X_train['M9'].value_counts()\n",
    "axes[2,2].bar(value_counts_M9.index, value_counts_M9.values)\n",
    "axes[2,2].set_title(\"Distribution of M9\")\n",
    "\n",
    "plt.show()"
   ]
  },
  {
   "cell_type": "markdown",
   "id": "772c4347",
   "metadata": {},
   "source": [
    "Decision:\n",
    "- We will fill the columns **M1, M2, M3, M4, M7, M8, M9** with their mode value as the distribution is heavily imbalanced. Hence, filling the missing values with the mode value will not changle the inherent distribution of these column\n",
    "- For columns **M5, M6**, we will fill up the missing values by randomly allocating the 2 possible values. "
   ]
  },
  {
   "cell_type": "code",
   "execution_count": 39,
   "id": "31352780",
   "metadata": {},
   "outputs": [],
   "source": [
    "M_columns_mode = ['M1','M2','M3','M4','M7','M8','M9']\n",
    "X_train[M_columns_mode] = X_train[M_columns_mode].fillna(mode_train[M_columns_mode])\n",
    "X_test[M_columns_mode] = X_test[M_columns_mode].fillna(mode_test[M_columns_mode])"
   ]
  },
  {
   "cell_type": "code",
   "execution_count": 41,
   "id": "0d8c95a9",
   "metadata": {},
   "outputs": [],
   "source": [
    "def allocate_missing_values(value1, value2):\n",
    "    return np.random.choice([value1, value2], size=1)[0]"
   ]
  },
  {
   "cell_type": "code",
   "execution_count": 42,
   "id": "c6b82b3c",
   "metadata": {},
   "outputs": [],
   "source": [
    "for column in ['M5','M6']:\n",
    "    if X_train[column].isna().any():\n",
    "        missing_mask = X_train[column].isna()\n",
    "        values = X_train[column].dropna().unique()\n",
    "        allocated_values = np.array([allocate_missing_values(*values) for _ in range(missing_mask.sum())])\n",
    "        X_train.loc[missing_mask, column] = allocated_values"
   ]
  },
  {
   "cell_type": "code",
   "execution_count": 43,
   "id": "f24e0df3",
   "metadata": {},
   "outputs": [],
   "source": [
    "for column in ['M5','M6']:\n",
    "    if X_test[column].isna().any():\n",
    "        missing_mask = X_test[column].isna()\n",
    "        values = X_test[column].dropna().unique()\n",
    "        allocated_values = np.array([allocate_missing_values(*values) for _ in range(missing_mask.sum())])\n",
    "        X_test.loc[missing_mask, column] = allocated_values"
   ]
  },
  {
   "cell_type": "code",
   "execution_count": 44,
   "id": "ce35ad23",
   "metadata": {},
   "outputs": [
    {
     "name": "stdout",
     "output_type": "stream",
     "text": [
      "Number of missing columns in train dataset:  41\n",
      "Number of missing columns in test dataset:  55\n"
     ]
    }
   ],
   "source": [
    "cols_with_missing_train = X_train.columns[X_train.isna().any()].tolist()\n",
    "cols_with_missing_test = X_test.columns[X_test.isna().any()].tolist()\n",
    "print(\"Number of missing columns in train dataset: \", len(cols_with_missing_train))\n",
    "print(\"Number of missing columns in test dataset: \", len(cols_with_missing_test)) "
   ]
  },
  {
   "cell_type": "markdown",
   "id": "1d0136d9",
   "metadata": {},
   "source": [
    "### 1.3.5 Investigation of Distribution (V columns)"
   ]
  },
  {
   "cell_type": "code",
   "execution_count": 46,
   "id": "61849ddc",
   "metadata": {},
   "outputs": [
    {
     "data": {
      "text/plain": [
       "['V1',\n",
       " 'V3',\n",
       " 'V4',\n",
       " 'V6',\n",
       " 'V8',\n",
       " 'V11',\n",
       " 'V13',\n",
       " 'V14',\n",
       " 'V17',\n",
       " 'V20',\n",
       " 'V23',\n",
       " 'V26',\n",
       " 'V27',\n",
       " 'V30',\n",
       " 'V36',\n",
       " 'V37',\n",
       " 'V40',\n",
       " 'V41',\n",
       " 'V44',\n",
       " 'V47',\n",
       " 'V48',\n",
       " 'V54',\n",
       " 'V56',\n",
       " 'V59',\n",
       " 'V62',\n",
       " 'V65',\n",
       " 'V67',\n",
       " 'V68',\n",
       " 'V70',\n",
       " 'V76',\n",
       " 'V78',\n",
       " 'V80',\n",
       " 'V82',\n",
       " 'V86',\n",
       " 'V88',\n",
       " 'V89',\n",
       " 'V91']"
      ]
     },
     "execution_count": 46,
     "metadata": {},
     "output_type": "execute_result"
    }
   ],
   "source": [
    "V_columns = []\n",
    "for col in remaining_cols:\n",
    "    if 'V' in col:\n",
    "        V_columns.append(col)\n",
    "V_columns"
   ]
  },
  {
   "cell_type": "markdown",
   "id": "0f5ed4bf",
   "metadata": {},
   "source": [
    "Decision:\n",
    "- We will fill up the missing values of the V Columns with its **respective mode value.** "
   ]
  },
  {
   "cell_type": "code",
   "execution_count": 52,
   "id": "1f6b703b",
   "metadata": {},
   "outputs": [],
   "source": [
    "X_train[V_columns] = X_train[V_columns].fillna(mode_train[V_columns])\n",
    "X_test[V_columns] = X_test[V_columns].fillna(mode_test[V_columns])"
   ]
  },
  {
   "cell_type": "code",
   "execution_count": 53,
   "id": "97a3380b",
   "metadata": {},
   "outputs": [
    {
     "name": "stdout",
     "output_type": "stream",
     "text": [
      "Number of missing columns in train dataset:  4\n",
      "Number of missing columns in test dataset:  18\n"
     ]
    }
   ],
   "source": [
    "cols_with_missing_train = X_train.columns[X_train.isna().any()].tolist()\n",
    "cols_with_missing_test = X_test.columns[X_test.isna().any()].tolist()\n",
    "print(\"Number of missing columns in train dataset: \", len(cols_with_missing_train))\n",
    "print(\"Number of missing columns in test dataset: \", len(cols_with_missing_test)) "
   ]
  },
  {
   "cell_type": "markdown",
   "id": "12c9a7f7",
   "metadata": {},
   "source": [
    "### 1.3.6 Investigation of Columns (The Rest)"
   ]
  },
  {
   "cell_type": "code",
   "execution_count": 56,
   "id": "eda35321",
   "metadata": {},
   "outputs": [
    {
     "data": {
      "text/plain": [
       "['addr1', 'addr2', 'dist1', 'P_emaildomain']"
      ]
     },
     "execution_count": 56,
     "metadata": {},
     "output_type": "execute_result"
    }
   ],
   "source": [
    "cols_with_missing_train = X_train.columns[X_train.isna().any()].tolist()\n",
    "cols_with_missing_train"
   ]
  },
  {
   "cell_type": "code",
   "execution_count": 59,
   "id": "4d765b63",
   "metadata": {},
   "outputs": [
    {
     "data": {
      "image/png": "[encoded data removed]",
      "text/plain": [
       "<Figure size 1440x720 with 4 Axes>"
      ]
     },
     "metadata": {
      "needs_background": "light"
     },
     "output_type": "display_data"
    }
   ],
   "source": [
    "fig, axes = plt.subplots(nrows = 2, ncols = 2, figsize = (20,10))\n",
    "\n",
    "value_counts_addr1 = X_train['addr1'].value_counts()\n",
    "axes[0,0].bar(value_counts_addr1.index, value_counts_addr1.values)\n",
    "axes[0,0].set_title(\"Distribution of addr1\")\n",
    "\n",
    "value_counts_addr2 = X_train['addr2'].value_counts()\n",
    "axes[0,1].bar(value_counts_addr2.index, value_counts_addr2.values)\n",
    "axes[0,1].set_title(\"Distribution of addr2\")\n",
    "\n",
    "value_counts_dist1 = X_train['dist1'].value_counts()\n",
    "axes[1,0].bar(value_counts_dist1.index, value_counts_dist1.values)\n",
    "axes[1,0].set_title(\"Distribution of dist1\")\n",
    "\n",
    "value_counts_P_emaildomain = X_train['P_emaildomain'].value_counts()\n",
    "axes[1,1].bar(value_counts_P_emaildomain.index, value_counts_P_emaildomain.values)\n",
    "axes[1,1].set_title(\"Distribution of P_emaildomain\")\n",
    "\n",
    "plt.show()"
   ]
  },
  {
   "cell_type": "markdown",
   "id": "6e96fdaa",
   "metadata": {},
   "source": [
    "Decision:\n",
    "- We will fill the missing values of addr1 with its **mean value**.\n",
    "- We will fill the missing values of addr2, dist1 and P_emaildomain with its **mode values**."
   ]
  },
  {
   "cell_type": "code",
   "execution_count": 61,
   "id": "a756b2a7",
   "metadata": {},
   "outputs": [
    {
     "name": "stdout",
     "output_type": "stream",
     "text": [
      "Number of missing columns in train dataset:  0\n",
      "Number of missing columns in test dataset:  14\n"
     ]
    }
   ],
   "source": [
    "cols_with_missing_train = X_train.columns[X_train.isna().any()].tolist()\n",
    "cols_with_missing_test = X_test.columns[X_test.isna().any()].tolist()\n",
    "print(\"Number of missing columns in train dataset: \", len(cols_with_missing_train))\n",
    "print(\"Number of missing columns in test dataset: \", len(cols_with_missing_test)) "
   ]
  },
  {
   "cell_type": "markdown",
   "id": "62e08470",
   "metadata": {},
   "source": [
    "### 1.3.7 Missing C Columns in Test Dataset"
   ]
  },
  {
   "cell_type": "code",
   "execution_count": 62,
   "id": "30554597",
   "metadata": {},
   "outputs": [
    {
     "data": {
      "text/plain": [
       "['C1',\n",
       " 'C2',\n",
       " 'C3',\n",
       " 'C4',\n",
       " 'C5',\n",
       " 'C6',\n",
       " 'C7',\n",
       " 'C8',\n",
       " 'C9',\n",
       " 'C10',\n",
       " 'C11',\n",
       " 'C12',\n",
       " 'C13',\n",
       " 'C14']"
      ]
     },
     "execution_count": 62,
     "metadata": {},
     "output_type": "execute_result"
    }
   ],
   "source": [
    "cols_with_missing_test = X_test.columns[X_test.isna().any()].tolist()\n",
    "cols_with_missing_test"
   ]
  },
  {
   "cell_type": "code",
   "execution_count": 64,
   "id": "cebc3701",
   "metadata": {},
   "outputs": [
    {
     "name": "stdout",
     "output_type": "stream",
     "text": [
      "C1 : 0.0\n",
      "C2 : 0.0\n",
      "C3 : 0.0\n",
      "C4 : 0.0\n",
      "C5 : 0.0\n",
      "C6 : 0.0\n",
      "C7 : 0.0\n",
      "C8 : 0.0\n",
      "C9 : 0.0\n",
      "C10 : 0.0\n",
      "C11 : 0.0\n",
      "C12 : 0.0\n",
      "C13 : 0.62\n",
      "C14 : 0.0\n"
     ]
    }
   ],
   "source": [
    "for col in cols_with_missing_test:\n",
    "    print(col, \":\",(X_test[col].isna().mean() * 100).round(2))"
   ]
  },
  {
   "cell_type": "markdown",
   "id": "b5f265bf",
   "metadata": {},
   "source": [
    "We will remove the rows with missing values in these columns."
   ]
  },
  {
   "cell_type": "code",
   "execution_count": 66,
   "id": "f6d02514",
   "metadata": {},
   "outputs": [
    {
     "name": "stdout",
     "output_type": "stream",
     "text": [
      "Number of missing columns in test dataset:  0\n"
     ]
    }
   ],
   "source": [
    "X_test.dropna(subset = cols_with_missing_test, inplace = True)\n",
    "cols_with_missing_test = X_test.columns[X_test.isna().any()].tolist()\n",
    "print(\"Number of missing columns in test dataset: \", len(cols_with_missing_test)) "
   ]
  },
  {
   "cell_type": "code",
   "execution_count": 67,
   "id": "68120c85",
   "metadata": {},
   "outputs": [],
   "source": [
    "X_train.to_csv('train_dataset.csv')\n",
    "X_test.to_csv('test_dataset.csv')"
   ]
  }
 ],
 "metadata": {
  "kernelspec": {
   "display_name": "Python 3",
   "language": "python",
   "name": "python3"
  },
  "language_info": {
   "codemirror_mode": {
    "name": "ipython",
    "version": 3
   },
   "file_extension": ".py",
   "mimetype": "text/x-python",
   "name": "python",
   "nbconvert_exporter": "python",
   "pygments_lexer": "ipython3",
   "version": "3.8.8"
  }
 },
 "nbformat": 4,
 "nbformat_minor": 5
}
